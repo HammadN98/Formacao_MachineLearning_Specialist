{
  "nbformat": 4,
  "nbformat_minor": 0,
  "metadata": {
    "colab": {
      "provenance": [],
      "authorship_tag": "ABX9TyOjjHWsVDzmJUAQEDlE6S7C",
      "include_colab_link": true
    },
    "kernelspec": {
      "name": "python3",
      "display_name": "Python 3"
    },
    "language_info": {
      "name": "python"
    }
  },
  "cells": [
    {
      "cell_type": "markdown",
      "metadata": {
        "id": "view-in-github",
        "colab_type": "text"
      },
      "source": [
        "<a href=\"https://colab.research.google.com/github/HammadN98/Formacao_MachineLearning_Specialist/blob/main/Projeto3_MetricasDeAvaliacao.ipynb\" target=\"_parent\"><img src=\"https://colab.research.google.com/assets/colab-badge.svg\" alt=\"Open In Colab\"/></a>"
      ]
    },
    {
      "cell_type": "markdown",
      "source": [
        "Codigo dado pelo professor com alguns ajustes propiros por causa de incompatibilidade da versao usada por ele, com a versao atual do tensorflow."
      ],
      "metadata": {
        "id": "XuO4u-xgOlN2"
      }
    },
    {
      "cell_type": "code",
      "source": [
        "from tensorflow.keras import datasets, layers, models\n",
        "from tensorflow.keras.callbacks import TensorBoard\n",
        "import matplotlib.pyplot as plt\n",
        "import tensorflow as tf\n",
        "import numpy as np\n",
        "import seaborn as sns\n",
        "import pandas as pd"
      ],
      "metadata": {
        "id": "giIbjBHFieuN"
      },
      "execution_count": 2,
      "outputs": []
    },
    {
      "cell_type": "code",
      "source": [
        "tf.__version__"
      ],
      "metadata": {
        "colab": {
          "base_uri": "https://localhost:8080/",
          "height": 35
        },
        "id": "2VNFIE6qi05o",
        "outputId": "c28069f0-6561-4dd6-871a-b312839b033a"
      },
      "execution_count": 4,
      "outputs": [
        {
          "output_type": "execute_result",
          "data": {
            "text/plain": [
              "'2.12.0'"
            ],
            "application/vnd.google.colaboratory.intrinsic+json": {
              "type": "string"
            }
          },
          "metadata": {},
          "execution_count": 4
        }
      ]
    },
    {
      "cell_type": "code",
      "source": [
        "%load_ext tensorboard"
      ],
      "metadata": {
        "id": "UAYqrU9NjEIo"
      },
      "execution_count": 5,
      "outputs": []
    },
    {
      "cell_type": "code",
      "source": [
        "logdir='log'"
      ],
      "metadata": {
        "id": "fSyxd7QSjJ8H"
      },
      "execution_count": 6,
      "outputs": []
    },
    {
      "cell_type": "code",
      "source": [
        "(train_images, train_labels), (test_images, test_labels) = datasets.mnist.load_data()\n",
        "train_images = train_images.reshape((60000, 28, 28, 1))\n",
        "test_images = test_images.reshape((10000, 28, 28, 1))\n",
        "\n",
        "train_images, test_images = train_images / 255.0, test_images / 255.0\n",
        "\n",
        "classes = [0,1,2,3,4,5,6,7,8,9]"
      ],
      "metadata": {
        "colab": {
          "base_uri": "https://localhost:8080/"
        },
        "id": "gLzk4oFXjOqg",
        "outputId": "5d2673d3-6bd1-4454-8416-b87f6af80b08"
      },
      "execution_count": 7,
      "outputs": [
        {
          "output_type": "stream",
          "name": "stdout",
          "text": [
            "Downloading data from https://storage.googleapis.com/tensorflow/tf-keras-datasets/mnist.npz\n",
            "11490434/11490434 [==============================] - 0s 0us/step\n"
          ]
        }
      ]
    },
    {
      "cell_type": "code",
      "source": [
        "from keras.api._v2.keras import activations\n",
        "model = models.Sequential()\n",
        "model.add(layers.Conv2D(32,(3, 3), activation= 'relu', input_shape=(28, 28, 1)))\n",
        "model.add(layers.MaxPooling2D(2, 2))\n",
        "model.add(layers.Conv2D(64,(3, 3), activation= 'relu'))\n",
        "model.add(layers.MaxPooling2D(2, 2))\n",
        "model.add(layers.Conv2D(64,(3, 3), activation= 'relu'))\n",
        "\n",
        "model.add(layers.Flatten())\n",
        "model.add(layers.Dense(64, activation='relu'))\n",
        "model.add(layers.Dense(10, activation='softmax'))\n"
      ],
      "metadata": {
        "id": "WIQ2zHm8jiVJ"
      },
      "execution_count": 8,
      "outputs": []
    },
    {
      "cell_type": "code",
      "source": [
        "tensorboard_callback = TensorBoard(log_dir=logdir, histogram_freq=1)\n"
      ],
      "metadata": {
        "id": "bWzOmbj6lutP"
      },
      "execution_count": 9,
      "outputs": []
    },
    {
      "cell_type": "code",
      "source": [
        "model.compile(optimizer='adam', loss='sparse_categorical_crossentropy',metrics=['accuracy'])"
      ],
      "metadata": {
        "id": "CrXX9cmNmDFZ"
      },
      "execution_count": 10,
      "outputs": []
    },
    {
      "cell_type": "code",
      "source": [
        "model.fit(x=train_images, y=train_labels, epochs=5, validation_data=(test_images, test_labels))"
      ],
      "metadata": {
        "colab": {
          "base_uri": "https://localhost:8080/"
        },
        "id": "oUFTTYDbqPZ0",
        "outputId": "8453dd27-0071-4973-877d-e7b0b80fd440"
      },
      "execution_count": 11,
      "outputs": [
        {
          "output_type": "stream",
          "name": "stdout",
          "text": [
            "Epoch 1/5\n",
            "1875/1875 [==============================] - 41s 21ms/step - loss: 0.1474 - accuracy: 0.9535 - val_loss: 0.0487 - val_accuracy: 0.9839\n",
            "Epoch 2/5\n",
            "1875/1875 [==============================] - 39s 21ms/step - loss: 0.0486 - accuracy: 0.9849 - val_loss: 0.0306 - val_accuracy: 0.9896\n",
            "Epoch 3/5\n",
            "1875/1875 [==============================] - 41s 22ms/step - loss: 0.0337 - accuracy: 0.9897 - val_loss: 0.0347 - val_accuracy: 0.9890\n",
            "Epoch 4/5\n",
            "1875/1875 [==============================] - 39s 21ms/step - loss: 0.0261 - accuracy: 0.9915 - val_loss: 0.0319 - val_accuracy: 0.9903\n",
            "Epoch 5/5\n",
            "1875/1875 [==============================] - 39s 21ms/step - loss: 0.0209 - accuracy: 0.9932 - val_loss: 0.0377 - val_accuracy: 0.9879\n"
          ]
        },
        {
          "output_type": "execute_result",
          "data": {
            "text/plain": [
              "<keras.callbacks.History at 0x783b266b17b0>"
            ]
          },
          "metadata": {},
          "execution_count": 11
        }
      ]
    },
    {
      "cell_type": "code",
      "source": [
        "y_true= test_labels"
      ],
      "metadata": {
        "id": "hMr7gHraOAUv"
      },
      "execution_count": 20,
      "outputs": []
    },
    {
      "cell_type": "code",
      "source": [
        "y_pred_probabilities = model.predict(test_images)\n",
        "y_pred_classes = y_pred_probabilities.argmax(axis=-1)"
      ],
      "metadata": {
        "colab": {
          "base_uri": "https://localhost:8080/"
        },
        "id": "6BaI1GR1tqkk",
        "outputId": "94313989-cd59-438f-b13d-ae7837a1e9b1"
      },
      "execution_count": 22,
      "outputs": [
        {
          "output_type": "stream",
          "name": "stdout",
          "text": [
            "313/313 [==============================] - 2s 6ms/step\n"
          ]
        }
      ]
    },
    {
      "cell_type": "code",
      "source": [
        "classes = [0,1,2,3,4,5,6,7,8,9]"
      ],
      "metadata": {
        "id": "XX498d8dqs5e"
      },
      "execution_count": 23,
      "outputs": []
    },
    {
      "cell_type": "code",
      "source": [
        "con_mat = tf.math.confusion_matrix(labels=y_true, predictions=y_pred_classes).numpy()\n",
        "con_mat_norm = np.around(con_mat.astype('float') / con_mat.sum(axis=1)[:np.newaxis], decimals=2)\n",
        "\n",
        "# Assuming you have already defined classes\n",
        "con_mat_df = pd.DataFrame(con_mat_norm, index=classes, columns=classes)\n",
        "figure = plt.figure(figsize=(8, 8))\n",
        "sns.heatmap(con_mat_df, annot=True, cmap=plt.cm.Blues)\n",
        "plt.tight_layout()\n",
        "plt.ylabel('True')\n",
        "plt.xlabel('Predicted')\n",
        "plt.show()"
      ],
      "metadata": {
        "colab": {
          "base_uri": "https://localhost:8080/",
          "height": 826
        },
        "id": "Z8XoyiQEu49P",
        "outputId": "f319e742-be67-4d86-c265-49502ac79327"
      },
      "execution_count": 24,
      "outputs": [
        {
          "output_type": "display_data",
          "data": {
            "text/plain": [
              "<Figure size 800x800 with 2 Axes>"
            ],
            "image/png": "[encoded data removed]"
          },
          "metadata": {}
        }
      ]
    },
    {
      "cell_type": "markdown",
      "source": [
        "Aqui começa Projeto:\n",
        "Neste projeto, vamos calcular as principais métricas para avaliação de modelos de classificação de dados, como acurácia, sensibilidade (recall), especificidade, precisão e F-score. Para que seja possível implementar estas funções, você deve utilizar os métodos e suas fórmulas correspondentes (Tabela 1).\n",
        "\n",
        "Para a leitura dos valores de VP, VN, FP e FN, será necessário escolher uma matriz de confusão para a base dos cálculos. Essa matriz você pode escolher de forma arbitraria, pois nosso objetivo é entender como funciona cada métrica.  "
      ],
      "metadata": {
        "id": "9uQ9NkEeOiVL"
      }
    },
    {
      "cell_type": "code",
      "source": [
        "#Atribuido cada espaço da matriz de confusao para seu valor\n",
        "VP = con_mat[0, 0]\n",
        "FN = con_mat[0, 1]\n",
        "FP = con_mat[1, 0]\n",
        "VN = con_mat[1, 1]\n",
        "\n",
        "#Realizando os calculos de forma manual como especificado no projeto\n",
        "sensibilidade = VP / (VP+FN)\n",
        "especificidade = VN / (FP + VN)\n",
        "acuracia = (VP + VN) / (VP + VN + FP + FN)\n",
        "precisao = VP / (VP + FP)\n",
        "fscore = 2 * (precisao * sensibilidade) / (precisao + sensibilidade)\n",
        "\n",
        "print(\"Cálculo de Métricas de Avaliação de Aprendizado:\\n\")\n",
        "print(\"Sensibilidade:\", sensibilidade)\n",
        "print(\"Especificidade:\", especificidade)\n",
        "print(\"Acurácia:\", acuracia)\n",
        "print(\"Precisão:\", precisao)\n",
        "print(\"F-Score:\", fscore)\n"
      ],
      "metadata": {
        "colab": {
          "base_uri": "https://localhost:8080/"
        },
        "id": "2IVKcdfoMKhy",
        "outputId": "ff68bbe4-9a6e-402c-d749-46bc95a9aa79"
      },
      "execution_count": 38,
      "outputs": [
        {
          "output_type": "stream",
          "name": "stdout",
          "text": [
            "Cálculo de Métricas de Avaliação de Aprendizado:\n",
            "\n",
            "Sensibilidade: 0.9989754098360656\n",
            "Especificidade: 1.0\n",
            "Acurácia: 0.9995249406175772\n",
            "Precisão: 1.0\n",
            "F-Score: 0.9994874423372629\n"
          ]
        }
      ]
    },
    {
      "cell_type": "code",
      "source": [],
      "metadata": {
        "id": "VSsk65pNP6IY"
      },
      "execution_count": null,
      "outputs": []
    }
  ]
}